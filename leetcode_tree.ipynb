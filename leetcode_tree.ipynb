{
 "cells": [
  {
   "cell_type": "markdown",
   "metadata": {},
   "source": [
    "# Tree"
   ]
  },
  {
   "cell_type": "markdown",
   "metadata": {},
   "source": [
    "## 100. Same Tree (Easy)"
   ]
  },
  {
   "cell_type": "code",
   "execution_count": 1,
   "metadata": {},
   "outputs": [],
   "source": [
    "# Definition for a binary tree node.\n",
    "class TreeNode:\n",
    "    def __init__(self, val = 0, left = None, right = None):\n",
    "        self.val = val\n",
    "        self.left = left\n",
    "        self.right = right\n",
    "\n",
    "#     def PrintTree(self):\n",
    "#         if self.left:\n",
    "#             self.left.PrintTree()\n",
    "#         print(self.val)\n",
    "#         if self.right:\n",
    "#             self.right.PrintTree()"
   ]
  },
  {
   "cell_type": "code",
   "execution_count": 2,
   "metadata": {},
   "outputs": [],
   "source": [
    "class Solution:\n",
    "    def isSameTree(self, p: TreeNode, q: TreeNode) -> bool:\n",
    "        if not p and not q:\n",
    "            return True\n",
    "        if not q or not p:\n",
    "            return False\n",
    "        if p.val != q.val:\n",
    "            return False\n",
    "        return self.isSameTree(p.right, q.right) and \\\n",
    "               self.isSameTree(p.left, q.left)"
   ]
  },
  {
   "cell_type": "code",
   "execution_count": 3,
   "metadata": {},
   "outputs": [
    {
     "data": {
      "text/plain": [
       "True"
      ]
     },
     "execution_count": 3,
     "metadata": {},
     "output_type": "execute_result"
    }
   ],
   "source": [
    "# Input \n",
    "# a = [1, 2, 3]\n",
    "# b = [1, 2, 3]\n",
    "p = TreeNode(1)\n",
    "p.left = TreeNode(2)\n",
    "p.right = TreeNode(3)\n",
    "q = TreeNode(1)\n",
    "q.left = TreeNode(2)\n",
    "q.right = TreeNode(3)\n",
    "\n",
    "# # Output: True\n",
    "Solution().isSameTree(p,q)"
   ]
  },
  {
   "cell_type": "code",
   "execution_count": 4,
   "metadata": {},
   "outputs": [
    {
     "data": {
      "text/plain": [
       "False"
      ]
     },
     "execution_count": 4,
     "metadata": {},
     "output_type": "execute_result"
    }
   ],
   "source": [
    "# Input \n",
    "# a = [1, 2, 1]\n",
    "# b = [1, None, 2]\n",
    "p = TreeNode(1)\n",
    "p.left = TreeNode(2)\n",
    "p.right = TreeNode(1)\n",
    "q = TreeNode(1)\n",
    "q.left = TreeNode(None)\n",
    "q.right = TreeNode(2)\n",
    "\n",
    "# # Output: False\n",
    "Solution().isSameTree(p,q)"
   ]
  },
  {
   "cell_type": "code",
   "execution_count": 5,
   "metadata": {},
   "outputs": [
    {
     "data": {
      "text/plain": [
       "False"
      ]
     },
     "execution_count": 5,
     "metadata": {},
     "output_type": "execute_result"
    }
   ],
   "source": [
    "# Input \n",
    "# a = [1, 2, 1]\n",
    "# b = [1, 1, 2]\n",
    "p = TreeNode(1)\n",
    "p.left = TreeNode(2)\n",
    "p.right = TreeNode(1)\n",
    "q = TreeNode(1)\n",
    "q.left = TreeNode(1)\n",
    "q.right = TreeNode(2)\n",
    "# # Output: Faslse\n",
    "\n",
    "Solution().isSameTree(p,q)"
   ]
  },
  {
   "cell_type": "markdown",
   "metadata": {},
   "source": [
    "## 101. Symmetric Tree (Easy) "
   ]
  },
  {
   "cell_type": "code",
   "execution_count": 6,
   "metadata": {},
   "outputs": [],
   "source": [
    "# Definition for a binary tree node.\n",
    "class TreeNode:\n",
    "    def __init__(self, val = 0, left = None, right = None):\n",
    "        self.val = val\n",
    "        self.left = left\n",
    "        self.right = right\n",
    "\n",
    "#     def PrintTree(self):\n",
    "#         if self.left:\n",
    "#             self.left.PrintTree()\n",
    "#         print(self.val)\n",
    "#         if self.right:\n",
    "#             self.right.PrintTree()"
   ]
  },
  {
   "cell_type": "code",
   "execution_count": 10,
   "metadata": {},
   "outputs": [],
   "source": [
    "class Solution:\n",
    "    def isSymmetric(self, root: TreeNode) -> bool:\n",
    "\n",
    "        if not root: return True\n",
    "        return self.checksymmetric(root.left, root.right)\n",
    "        \n",
    "    def checksymmetric(self, node1, node2):\n",
    "        \n",
    "        if not node1 and not node2: return True\n",
    "        if not node1 or not node2: return False \n",
    "        print(node1.val, node2.val)\n",
    "        if node1.val != node2.val: return False \n",
    "        return self.checksymmetric(node1.left, node2.right) and self.checksymmetric(node1.right, node2.left)"
   ]
  },
  {
   "cell_type": "code",
   "execution_count": 11,
   "metadata": {},
   "outputs": [
    {
     "name": "stdout",
     "output_type": "stream",
     "text": [
      "2 2\n",
      "3 3\n",
      "4 4\n"
     ]
    },
    {
     "data": {
      "text/plain": [
       "True"
      ]
     },
     "execution_count": 11,
     "metadata": {},
     "output_type": "execute_result"
    }
   ],
   "source": [
    "root = TreeNode(1)\n",
    "root.left = TreeNode(2)\n",
    "root.right = TreeNode(2)\n",
    "root.left.left = TreeNode(3)\n",
    "root.left.right = TreeNode(4)\n",
    "root.right.left = TreeNode(4)\n",
    "root.right.right = TreeNode(3)\n",
    "\n",
    "# [1,2,2,3,4,4,3] is symmetric:\n",
    "Solution().isSymmetric(root)"
   ]
  },
  {
   "cell_type": "code",
   "execution_count": 14,
   "metadata": {},
   "outputs": [
    {
     "name": "stdout",
     "output_type": "stream",
     "text": [
      "2 2\n",
      "0 3\n"
     ]
    },
    {
     "data": {
      "text/plain": [
       "False"
      ]
     },
     "execution_count": 14,
     "metadata": {},
     "output_type": "execute_result"
    }
   ],
   "source": [
    "root = TreeNode(1)\n",
    "root.left = TreeNode(2)\n",
    "root.right = TreeNode(2)\n",
    "root.left.left = TreeNode()\n",
    "root.left.right = TreeNode(3)\n",
    "root.right.left = TreeNode()\n",
    "root.right.right = TreeNode(3)\n",
    "\n",
    "# [1,2,2,null,3,null,3] is not:\n",
    "Solution().isSymmetric(root)"
   ]
  },
  {
   "cell_type": "code",
   "execution_count": null,
   "metadata": {},
   "outputs": [],
   "source": []
  },
  {
   "cell_type": "code",
   "execution_count": null,
   "metadata": {},
   "outputs": [],
   "source": []
  }
 ],
 "metadata": {
  "kernelspec": {
   "display_name": "Python 3",
   "language": "python",
   "name": "python3"
  },
  "language_info": {
   "codemirror_mode": {
    "name": "ipython",
    "version": 3
   },
   "file_extension": ".py",
   "mimetype": "text/x-python",
   "name": "python",
   "nbconvert_exporter": "python",
   "pygments_lexer": "ipython3",
   "version": "3.6.4"
  }
 },
 "nbformat": 4,
 "nbformat_minor": 4
}
