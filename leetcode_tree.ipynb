{
 "cells": [
  {
   "cell_type": "markdown",
   "metadata": {},
   "source": [
    "# Tree"
   ]
  },
  {
   "cell_type": "markdown",
   "metadata": {},
   "source": [
    "## 100. Same Tree (Easy)\n",
    "![avatar](https://assets.leetcode.com/uploads/2020/12/20/ex1.jpg)"
   ]
  },
  {
   "cell_type": "code",
   "execution_count": 1,
   "metadata": {},
   "outputs": [],
   "source": [
    "# Definition for a binary tree node.\n",
    "class TreeNode:\n",
    "    def __init__(self, val = 0, left = None, right = None):\n",
    "        self.val = val\n",
    "        self.left = left\n",
    "        self.right = right\n",
    "\n",
    "#     def PrintTree(self):\n",
    "#         if self.left:\n",
    "#             self.left.PrintTree()\n",
    "#         print(self.val)\n",
    "#         if self.right:\n",
    "#             self.right.PrintTree()"
   ]
  },
  {
   "cell_type": "code",
   "execution_count": 2,
   "metadata": {},
   "outputs": [],
   "source": [
    "class Solution:\n",
    "    def isSameTree(self, node1: TreeNode, node2: TreeNode) -> bool:\n",
    "        \n",
    "        if not node1 and not node2: return True\n",
    "        if not node1 or not node2: return False\n",
    "        if node1.val != node2.val: return False\n",
    "        return self.isSameTree(node1.right, node2.right) and \\\n",
    "               self.isSameTree(node1.left, node2.left)"
   ]
  },
  {
   "cell_type": "code",
   "execution_count": 3,
   "metadata": {},
   "outputs": [
    {
     "data": {
      "text/plain": [
       "True"
      ]
     },
     "execution_count": 3,
     "metadata": {},
     "output_type": "execute_result"
    }
   ],
   "source": [
    "# Input \n",
    "# a = [1, 2, 3]\n",
    "# b = [1, 2, 3]\n",
    "p = TreeNode(1)\n",
    "p.left = TreeNode(2)\n",
    "p.right = TreeNode(3)\n",
    "q = TreeNode(1)\n",
    "q.left = TreeNode(2)\n",
    "q.right = TreeNode(3)\n",
    "\n",
    "# # Output: True\n",
    "Solution().isSameTree(p,q)"
   ]
  },
  {
   "cell_type": "code",
   "execution_count": 4,
   "metadata": {},
   "outputs": [
    {
     "data": {
      "text/plain": [
       "False"
      ]
     },
     "execution_count": 4,
     "metadata": {},
     "output_type": "execute_result"
    }
   ],
   "source": [
    "# Input \n",
    "# a = [1, 2, 1]\n",
    "# b = [1, None, 2]\n",
    "p = TreeNode(1)\n",
    "p.left = TreeNode(2)\n",
    "p.right = TreeNode(1)\n",
    "q = TreeNode(1)\n",
    "q.left = TreeNode(None)\n",
    "q.right = TreeNode(2)\n",
    "\n",
    "# # Output: False\n",
    "Solution().isSameTree(p,q)"
   ]
  },
  {
   "cell_type": "code",
   "execution_count": 5,
   "metadata": {},
   "outputs": [
    {
     "data": {
      "text/plain": [
       "False"
      ]
     },
     "execution_count": 5,
     "metadata": {},
     "output_type": "execute_result"
    }
   ],
   "source": [
    "# Input \n",
    "# a = [1, 2, 1]\n",
    "# b = [1, 1, 2]\n",
    "p = TreeNode(1)\n",
    "p.left = TreeNode(2)\n",
    "p.right = TreeNode(1)\n",
    "q = TreeNode(1)\n",
    "q.left = TreeNode(1)\n",
    "q.right = TreeNode(2)\n",
    "# # Output: Faslse\n",
    "\n",
    "Solution().isSameTree(p,q)"
   ]
  },
  {
   "cell_type": "markdown",
   "metadata": {},
   "source": [
    "## 101. Symmetric Tree (Easy)"
   ]
  },
  {
   "cell_type": "code",
   "execution_count": 6,
   "metadata": {},
   "outputs": [],
   "source": [
    "#     1\n",
    "#    / \\\n",
    "#   2   2\n",
    "#  / \\ / \\\n",
    "# 3  4 3  4"
   ]
  },
  {
   "cell_type": "code",
   "execution_count": 7,
   "metadata": {},
   "outputs": [],
   "source": [
    "# Definition for a binary tree node.\n",
    "class TreeNode:\n",
    "    def __init__(self, val = 0, left = None, right = None):\n",
    "        self.val = val\n",
    "        self.left = left\n",
    "        self.right = right\n",
    "\n",
    "#     def PrintTree(self):\n",
    "#         if self.left:\n",
    "#             self.left.PrintTree()\n",
    "#         print(self.val)\n",
    "#         if self.right:\n",
    "#             self.right.PrintTree()"
   ]
  },
  {
   "cell_type": "code",
   "execution_count": 8,
   "metadata": {},
   "outputs": [],
   "source": [
    "class Solution:\n",
    "    def isSymmetric(self, root: TreeNode) -> bool:\n",
    "\n",
    "        if not root: return True\n",
    "        return self.checksymmetric(root.left, root.right)\n",
    "        \n",
    "    def checksymmetric(self, node1, node2):\n",
    "        \n",
    "        if not node1 and not node2: return True\n",
    "        if not node1 or not node2: return False \n",
    "#         print(node1.val, node2.val)\n",
    "        if node1.val != node2.val: return False \n",
    "        return self.checksymmetric(node1.left, node2.right) and \\\n",
    "               self.checksymmetric(node1.right, node2.left)\n",
    "    "
   ]
  },
  {
   "cell_type": "code",
   "execution_count": 9,
   "metadata": {},
   "outputs": [
    {
     "data": {
      "text/plain": [
       "True"
      ]
     },
     "execution_count": 9,
     "metadata": {},
     "output_type": "execute_result"
    }
   ],
   "source": [
    "root = TreeNode(1)\n",
    "root.left = TreeNode(2)\n",
    "root.right = TreeNode(2)\n",
    "root.left.left = TreeNode(3)\n",
    "root.left.right = TreeNode(4)\n",
    "root.right.left = TreeNode(4)\n",
    "root.right.right = TreeNode(3)\n",
    "\n",
    "# [1,2,2,3,4,4,3] is symmetric:\n",
    "Solution().isSymmetric(root)"
   ]
  },
  {
   "cell_type": "code",
   "execution_count": 10,
   "metadata": {},
   "outputs": [
    {
     "data": {
      "text/plain": [
       "False"
      ]
     },
     "execution_count": 10,
     "metadata": {},
     "output_type": "execute_result"
    }
   ],
   "source": [
    "root = TreeNode(1)\n",
    "root.left = TreeNode(2)\n",
    "root.right = TreeNode(2)\n",
    "root.left.left = TreeNode()\n",
    "root.left.right = TreeNode(3)\n",
    "root.right.left = TreeNode()\n",
    "root.right.right = TreeNode(3)\n",
    "\n",
    "# [1,2,2,null,3,null,3] is not:\n",
    "Solution().isSymmetric(root)"
   ]
  },
  {
   "cell_type": "markdown",
   "metadata": {},
   "source": [
    "## 104. Maximum Depth of Binary Tree (Easy)\n",
    "![avatar](https://assets.leetcode.com/uploads/2020/11/26/tmp-tree.jpg)"
   ]
  },
  {
   "cell_type": "code",
   "execution_count": 11,
   "metadata": {},
   "outputs": [],
   "source": [
    "# Definition for a binary tree node.\n",
    "class TreeNode:\n",
    "    def __init__(self, val = 0, left = None, right = None):\n",
    "        self.val = val\n",
    "        self.left = left\n",
    "        self.right = right\n",
    "\n",
    "#     def PrintTree(self):\n",
    "#         if self.left:\n",
    "#             self.left.PrintTree()\n",
    "#         print(self.val)\n",
    "#         if self.right:\n",
    "#             self.right.PrintTree()"
   ]
  },
  {
   "cell_type": "code",
   "execution_count": 12,
   "metadata": {},
   "outputs": [],
   "source": [
    "class Solution:\n",
    "    def __init__(self):\n",
    "        self.max_depth = 0\n",
    "    def maxDepth(self, root: TreeNode) -> int:\n",
    "        \n",
    "        if not root: return self.max_depth\n",
    "        self.checkMaxDepth(root, 0)\n",
    "        return self.max_depth+1\n",
    "    \n",
    "    def checkMaxDepth(self, node, depth):\n",
    "#         print(\"depth :\", depth)\n",
    "#         print(node.val)\n",
    "        if not node.left and not node.right:\n",
    "            if depth > self.max_depth: self.max_depth = depth \n",
    "#             print(\"---end---\")\n",
    "            return\n",
    "        else: \n",
    "            depth += 1\n",
    "            if node.left:\n",
    "                self.checkMaxDepth(node.left, depth)\n",
    "            if node.right:\n",
    "                self.checkMaxDepth(node.right, depth)"
   ]
  },
  {
   "cell_type": "code",
   "execution_count": 13,
   "metadata": {},
   "outputs": [],
   "source": [
    "# Recursion...\n",
    "class Solution:\n",
    "    def maxDepth(self, root: TreeNode) -> int:\n",
    "#         if root == None: \n",
    "#             print(\"None\") \n",
    "#         else: \n",
    "#             print(root.val)\n",
    "        if root == None:\n",
    "            return 0\n",
    "        return 1 + max(self.maxDepth(root.left),self.maxDepth(root.right))"
   ]
  },
  {
   "cell_type": "code",
   "execution_count": 14,
   "metadata": {},
   "outputs": [
    {
     "data": {
      "text/plain": [
       "3"
      ]
     },
     "execution_count": 14,
     "metadata": {},
     "output_type": "execute_result"
    }
   ],
   "source": [
    "root = TreeNode(3)\n",
    "root.left = TreeNode(9)\n",
    "root.right = TreeNode(20)\n",
    "root.left.left = TreeNode()\n",
    "root.left.right = TreeNode()\n",
    "root.right.left = TreeNode(15)\n",
    "root.right.right = TreeNode(7)\n",
    "# Input: root = [3,9,20,null,null,15,7]\n",
    "# Output: 3\n",
    "Solution().maxDepth(root)"
   ]
  },
  {
   "cell_type": "code",
   "execution_count": 15,
   "metadata": {},
   "outputs": [
    {
     "data": {
      "text/plain": [
       "3"
      ]
     },
     "execution_count": 15,
     "metadata": {},
     "output_type": "execute_result"
    }
   ],
   "source": [
    "root = TreeNode(1)\n",
    "root.left = TreeNode(2)\n",
    "root.right = TreeNode(3)\n",
    "root.left.left = TreeNode(4)\n",
    "root.left.right = TreeNode(5)\n",
    "# Input: root = [3,9,20,null,null,15,7]\n",
    "# Output: 3\n",
    "Solution().maxDepth(root)"
   ]
  },
  {
   "cell_type": "code",
   "execution_count": 16,
   "metadata": {},
   "outputs": [
    {
     "data": {
      "text/plain": [
       "2"
      ]
     },
     "execution_count": 16,
     "metadata": {},
     "output_type": "execute_result"
    }
   ],
   "source": [
    "root = TreeNode(1)\n",
    "root.left = TreeNode()\n",
    "root.right = TreeNode(2)\n",
    "# Input: root = [1,null,2]\n",
    "# Output: 2\n",
    "Solution().maxDepth(root)"
   ]
  },
  {
   "cell_type": "code",
   "execution_count": 17,
   "metadata": {},
   "outputs": [
    {
     "data": {
      "text/plain": [
       "0"
      ]
     },
     "execution_count": 17,
     "metadata": {},
     "output_type": "execute_result"
    }
   ],
   "source": [
    "root = None\n",
    "# Input: root = []\n",
    "# Output: 0\n",
    "Solution().maxDepth(root)"
   ]
  },
  {
   "cell_type": "code",
   "execution_count": 18,
   "metadata": {},
   "outputs": [
    {
     "data": {
      "text/plain": [
       "1"
      ]
     },
     "execution_count": 18,
     "metadata": {},
     "output_type": "execute_result"
    }
   ],
   "source": [
    "root = TreeNode(0)\n",
    "# Input: root = [0]\n",
    "# Output: 1\n",
    "Solution().maxDepth(root)"
   ]
  },
  {
   "cell_type": "markdown",
   "metadata": {},
   "source": [
    "## 107. Binary Tree Level Order Traversal II (Easy) "
   ]
  },
  {
   "cell_type": "code",
   "execution_count": 19,
   "metadata": {},
   "outputs": [],
   "source": [
    "#     3\n",
    "#    / \\\n",
    "#   9  20\n",
    "#     /  \\\n",
    "#    15   7\n",
    "# # Return VVV\n",
    "# [\n",
    "#   [15,7],\n",
    "#   [9,20],\n",
    "#   [3]\n",
    "# ]"
   ]
  },
  {
   "cell_type": "code",
   "execution_count": 20,
   "metadata": {},
   "outputs": [],
   "source": [
    "# Definition for a binary tree node.\n",
    "class TreeNode:\n",
    "    def __init__(self, val = 0, left = None, right = None):\n",
    "        self.val = val\n",
    "        self.left = left\n",
    "        self.right = right"
   ]
  },
  {
   "cell_type": "code",
   "execution_count": 21,
   "metadata": {},
   "outputs": [],
   "source": [
    "##  bfs & queue  \n",
    "class Solution:\n",
    "    def __init__(self):\n",
    "        self.result = []\n",
    "        \n",
    "    def levelOrderBottom(self, root: TreeNode) :\n",
    "        same_level_node, node_queue = [], []\n",
    "        if not root: return self.result\n",
    "        node_queue.append(root)\n",
    "        node_amount = 1\n",
    "        \n",
    "        while node_queue:\n",
    "            node = node_queue.pop()\n",
    "            same_level_node += [node.val]\n",
    "            node_amount -= 1\n",
    "            \n",
    "            if node.left:\n",
    "                node_queue.insert(0, node.left)\n",
    "            if node.right:\n",
    "                node_queue.insert(0, node.right)\n",
    "            \n",
    "            if node_amount == 0:\n",
    "                self.result = [same_level_node] + self.result\n",
    "                same_level_node = []\n",
    "                node_amount = len(node_queue)\n",
    "        return self.result"
   ]
  },
  {
   "cell_type": "code",
   "execution_count": 22,
   "metadata": {},
   "outputs": [],
   "source": [
    "## dfs recursion\n",
    "class Solution:\n",
    "    def __init__(self):\n",
    "        self.result = []\n",
    "        \n",
    "    def levelOrderBottom(self, root: TreeNode):\n",
    "        self.dfs(root, 0, self.result)\n",
    "        return self.result\n",
    "\n",
    "    def dfs(self, node, node_level, res):\n",
    "        if node:\n",
    "            if len(res) < node_level + 1: \n",
    "                res.insert(0, [])\n",
    "            res[-(node_level+1)].append(node.val)\n",
    "            self.dfs(node.left, node_level + 1, res)\n",
    "            self.dfs(node.right, node_level + 1, res)"
   ]
  },
  {
   "cell_type": "code",
   "execution_count": 23,
   "metadata": {},
   "outputs": [
    {
     "data": {
      "text/plain": [
       "[[15, 7], [9, 20], [3]]"
      ]
     },
     "execution_count": 23,
     "metadata": {},
     "output_type": "execute_result"
    }
   ],
   "source": [
    "root = TreeNode(3)\n",
    "root.left = TreeNode(9)\n",
    "root.right = TreeNode(20)\n",
    "root.right.left = TreeNode(15)\n",
    "root.right.right = TreeNode(7)\n",
    "# Output : [[15, 7], [9, 20], [3]]\n",
    "Solution().levelOrderBottom(root)"
   ]
  },
  {
   "cell_type": "code",
   "execution_count": 24,
   "metadata": {},
   "outputs": [
    {
     "data": {
      "text/plain": [
       "[[4, 5], [2, 3], [1]]"
      ]
     },
     "execution_count": 24,
     "metadata": {},
     "output_type": "execute_result"
    }
   ],
   "source": [
    "root = TreeNode(1)\n",
    "root.left = TreeNode(2)\n",
    "root.right = TreeNode(3)\n",
    "root.left.left = TreeNode(4)\n",
    "root.left.right = TreeNode(5)\n",
    "# Output : [[4, 5], [2, 3], [1]]\n",
    "Solution().levelOrderBottom(root)"
   ]
  },
  {
   "cell_type": "markdown",
   "metadata": {},
   "source": [
    "## 108. Convert Sorted Array to Binary Search Tree (Easy)"
   ]
  },
  {
   "cell_type": "code",
   "execution_count": 25,
   "metadata": {},
   "outputs": [],
   "source": [
    "# Given an array where elements are sorted in ascending order, \n",
    "# convert it to a height balanced BST.\n",
    "\n",
    "# For this problem, a height-balanced binary tree is defined as a binary tree \n",
    "# in which the depth of the two subtrees of every node never differ by more than 1.\n",
    "\n",
    "# Given the sorted array: [-10,-3,0,5,9],\n",
    "\n",
    "# One possible answer is: [0,-3,9,-10,null,5], which represents the following height balanced BST:\n",
    "\n",
    "#       0\n",
    "#      / \\\n",
    "#    -3   9\n",
    "#    /   /\n",
    "#  -10  5"
   ]
  },
  {
   "cell_type": "code",
   "execution_count": 26,
   "metadata": {},
   "outputs": [],
   "source": [
    "# Definition for a binary tree node.\n",
    "class TreeNode:\n",
    "    def __init__(self, val = 0, left = None, right = None):\n",
    "        self.val = val\n",
    "        self.left = left\n",
    "        self.right = right"
   ]
  },
  {
   "cell_type": "code",
   "execution_count": 27,
   "metadata": {},
   "outputs": [],
   "source": [
    "class Solution:\n",
    "    def sortedArrayToBST(self, nums: [int]) -> TreeNode:\n",
    "        if not nums:\n",
    "            return None\n",
    "        mid = (len(nums)-1)//2\n",
    "        result = TreeNode(nums[mid])\n",
    "        result.left = self.sortedArrayToBST(nums[:mid])\n",
    "        result.right = self.sortedArrayToBST(nums[mid+1:])\n",
    "        return result"
   ]
  },
  {
   "cell_type": "code",
   "execution_count": 28,
   "metadata": {},
   "outputs": [
    {
     "name": "stdout",
     "output_type": "stream",
     "text": [
      "0\n",
      "-10\n",
      "5\n",
      "-3\n",
      "9\n"
     ]
    }
   ],
   "source": [
    "array = [-10,-3,0,5,9]\n",
    "a = Solution().sortedArrayToBST(array)\n",
    "print(a.val)\n",
    "print(a.left.val)\n",
    "print(a.right.val)\n",
    "print(a.left.right.val)\n",
    "print(a.right.right.val)"
   ]
  },
  {
   "cell_type": "markdown",
   "metadata": {},
   "source": [
    "## 110. Balanced Binary Tree (Easy)\n",
    "a binary tree in which the left and right subtrees\n",
    "of every node differ in height by no more than 1. </br>\n",
    "![avatar](https://assets.leetcode.com/uploads/2020/10/06/balance_1.jpg) ---> return True </br>\n",
    "![avatar](https://assets.leetcode.com/uploads/2020/10/06/balance_2.jpg) ---> return False </br>"
   ]
  },
  {
   "cell_type": "code",
   "execution_count": 29,
   "metadata": {},
   "outputs": [],
   "source": [
    "# Definition for a binary tree node.\n",
    "class TreeNode:\n",
    "    def __init__(self, val=0, left=None, right=None):\n",
    "        self.val = val\n",
    "        self.left = left\n",
    "        self.right = right"
   ]
  },
  {
   "cell_type": "code",
   "execution_count": 30,
   "metadata": {},
   "outputs": [],
   "source": [
    "class Solution:\n",
    "    def isBalanced(self, root):\n",
    "        if not root:\n",
    "            return True\n",
    "#         print(self.getHeight(root.left))\n",
    "#         print( self.getHeight(root.right))\n",
    "        if abs(self.getHeight(root.left) - self.getHeight(root.right)) <= 1 \\\n",
    "           and self.isBalanced(root.left) \\\n",
    "           and self.isBalanced(root.right):\n",
    "            return True\n",
    "        else:\n",
    "            return False\n",
    "        \n",
    "    def getHeight(self, node):\n",
    "        if not node:\n",
    "            return 0\n",
    "        return 1 + max(self.getHeight(node.left), self.getHeight(node.right))"
   ]
  },
  {
   "cell_type": "code",
   "execution_count": 31,
   "metadata": {},
   "outputs": [
    {
     "data": {
      "text/plain": [
       "True"
      ]
     },
     "execution_count": 31,
     "metadata": {},
     "output_type": "execute_result"
    }
   ],
   "source": [
    "root = TreeNode(3)\n",
    "root.left = TreeNode(9)\n",
    "root.right = TreeNode(20)\n",
    "root.right.left = TreeNode(15)\n",
    "root.right.right = TreeNode(7)\n",
    "# Input: root = [3,9,20,null,null,15,7]\n",
    "# Output: true\n",
    "Solution().isBalanced(root)"
   ]
  },
  {
   "cell_type": "code",
   "execution_count": 32,
   "metadata": {},
   "outputs": [
    {
     "data": {
      "text/plain": [
       "False"
      ]
     },
     "execution_count": 32,
     "metadata": {},
     "output_type": "execute_result"
    }
   ],
   "source": [
    "root = TreeNode(1)\n",
    "root.left = TreeNode(2)\n",
    "root.right = TreeNode(2)\n",
    "root.left.left = TreeNode(3)\n",
    "root.left.right = TreeNode(3)\n",
    "root.left.left.left = TreeNode(4)\n",
    "root.left.left.right = TreeNode(4)\n",
    "# Input: root = [1,2,2,3,3,null,null,4,4]\n",
    "# Output: false\n",
    "Solution().isBalanced(root)"
   ]
  },
  {
   "cell_type": "code",
   "execution_count": 33,
   "metadata": {},
   "outputs": [
    {
     "data": {
      "text/plain": [
       "True"
      ]
     },
     "execution_count": 33,
     "metadata": {},
     "output_type": "execute_result"
    }
   ],
   "source": [
    "root = None\n",
    "# Input: root = []\n",
    "# Output: true\n",
    "Solution().isBalanced(root)"
   ]
  },
  {
   "cell_type": "code",
   "execution_count": null,
   "metadata": {},
   "outputs": [],
   "source": []
  },
  {
   "cell_type": "code",
   "execution_count": null,
   "metadata": {},
   "outputs": [],
   "source": []
  }
 ],
 "metadata": {
  "kernelspec": {
   "display_name": "Python 3",
   "language": "python",
   "name": "python3"
  },
  "language_info": {
   "codemirror_mode": {
    "name": "ipython",
    "version": 3
   },
   "file_extension": ".py",
   "mimetype": "text/x-python",
   "name": "python",
   "nbconvert_exporter": "python",
   "pygments_lexer": "ipython3",
   "version": "3.6.4"
  }
 },
 "nbformat": 4,
 "nbformat_minor": 4
}
