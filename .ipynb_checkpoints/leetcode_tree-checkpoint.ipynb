{
 "cells": [
  {
   "cell_type": "markdown",
   "metadata": {},
   "source": [
    "# Tree"
   ]
  },
  {
   "cell_type": "markdown",
   "metadata": {},
   "source": [
    "## 100. Same Tree (Easy)\n",
    "![avatar](https://assets.leetcode.com/uploads/2020/12/20/ex1.jpg)"
   ]
  },
  {
   "cell_type": "code",
   "execution_count": 1,
   "metadata": {},
   "outputs": [],
   "source": [
    "# Definition for a binary tree node.\n",
    "class TreeNode:\n",
    "    def __init__(self, val = 0, left = None, right = None):\n",
    "        self.val = val\n",
    "        self.left = left\n",
    "        self.right = right\n",
    "\n",
    "#     def PrintTree(self):\n",
    "#         if self.left:\n",
    "#             self.left.PrintTree()\n",
    "#         print(self.val)\n",
    "#         if self.right:\n",
    "#             self.right.PrintTree()"
   ]
  },
  {
   "cell_type": "code",
   "execution_count": 2,
   "metadata": {},
   "outputs": [],
   "source": [
    "class Solution:\n",
    "    def isSameTree(self, node1: TreeNode, node2: TreeNode) -> bool:\n",
    "        \n",
    "        if not node1 and not node2: return True\n",
    "        if not node1 or not node2: return False\n",
    "        if node1.val != node2.val: return False\n",
    "        return self.isSameTree(node1.right, ndoe2.right) and \\\n",
    "               self.isSameTree(node1.left, node2.left)"
   ]
  },
  {
   "cell_type": "code",
   "execution_count": 3,
   "metadata": {},
   "outputs": [
    {
     "data": {
      "text/plain": [
       "True"
      ]
     },
     "execution_count": 3,
     "metadata": {},
     "output_type": "execute_result"
    }
   ],
   "source": [
    "# Input \n",
    "# a = [1, 2, 3]\n",
    "# b = [1, 2, 3]\n",
    "p = TreeNode(1)\n",
    "p.left = TreeNode(2)\n",
    "p.right = TreeNode(3)\n",
    "q = TreeNode(1)\n",
    "q.left = TreeNode(2)\n",
    "q.right = TreeNode(3)\n",
    "\n",
    "# # Output: True\n",
    "Solution().isSameTree(p,q)"
   ]
  },
  {
   "cell_type": "code",
   "execution_count": 4,
   "metadata": {},
   "outputs": [
    {
     "data": {
      "text/plain": [
       "False"
      ]
     },
     "execution_count": 4,
     "metadata": {},
     "output_type": "execute_result"
    }
   ],
   "source": [
    "# Input \n",
    "# a = [1, 2, 1]\n",
    "# b = [1, None, 2]\n",
    "p = TreeNode(1)\n",
    "p.left = TreeNode(2)\n",
    "p.right = TreeNode(1)\n",
    "q = TreeNode(1)\n",
    "q.left = TreeNode(None)\n",
    "q.right = TreeNode(2)\n",
    "\n",
    "# # Output: False\n",
    "Solution().isSameTree(p,q)"
   ]
  },
  {
   "cell_type": "code",
   "execution_count": 5,
   "metadata": {},
   "outputs": [
    {
     "data": {
      "text/plain": [
       "False"
      ]
     },
     "execution_count": 5,
     "metadata": {},
     "output_type": "execute_result"
    }
   ],
   "source": [
    "# Input \n",
    "# a = [1, 2, 1]\n",
    "# b = [1, 1, 2]\n",
    "p = TreeNode(1)\n",
    "p.left = TreeNode(2)\n",
    "p.right = TreeNode(1)\n",
    "q = TreeNode(1)\n",
    "q.left = TreeNode(1)\n",
    "q.right = TreeNode(2)\n",
    "# # Output: Faslse\n",
    "\n",
    "Solution().isSameTree(p,q)"
   ]
  },
  {
   "cell_type": "markdown",
   "metadata": {},
   "source": [
    "## 101. Symmetric Tree (Easy)"
   ]
  },
  {
   "cell_type": "code",
   "execution_count": null,
   "metadata": {},
   "outputs": [],
   "source": [
    "    1\n",
    "   / \\\n",
    "  2   2\n",
    " / \\ / \\\n",
    "3  4 3  4"
   ]
  },
  {
   "cell_type": "code",
   "execution_count": 6,
   "metadata": {},
   "outputs": [],
   "source": [
    "# Definition for a binary tree node.\n",
    "class TreeNode:\n",
    "    def __init__(self, val = 0, left = None, right = None):\n",
    "        self.val = val\n",
    "        self.left = left\n",
    "        self.right = right\n",
    "\n",
    "#     def PrintTree(self):\n",
    "#         if self.left:\n",
    "#             self.left.PrintTree()\n",
    "#         print(self.val)\n",
    "#         if self.right:\n",
    "#             self.right.PrintTree()"
   ]
  },
  {
   "cell_type": "code",
   "execution_count": 10,
   "metadata": {},
   "outputs": [],
   "source": [
    "class Solution:\n",
    "    def isSymmetric(self, root: TreeNode) -> bool:\n",
    "\n",
    "        if not root: return True\n",
    "        return self.checksymmetric(root.left, root.right)\n",
    "        \n",
    "    def checksymmetric(self, node1, node2):\n",
    "        \n",
    "        if not node1 and not node2: return True\n",
    "        if not node1 or not node2: return False \n",
    "#         print(node1.val, node2.val)\n",
    "        if node1.val != node2.val: return False \n",
    "        return self.checksymmetric(node1.left, node2.right) and \\\n",
    "               self.checksymmetric(node1.right, node2.left)\n",
    "    "
   ]
  },
  {
   "cell_type": "code",
   "execution_count": 11,
   "metadata": {},
   "outputs": [
    {
     "name": "stdout",
     "output_type": "stream",
     "text": [
      "2 2\n",
      "3 3\n",
      "4 4\n"
     ]
    },
    {
     "data": {
      "text/plain": [
       "True"
      ]
     },
     "execution_count": 11,
     "metadata": {},
     "output_type": "execute_result"
    }
   ],
   "source": [
    "root = TreeNode(1)\n",
    "root.left = TreeNode(2)\n",
    "root.right = TreeNode(2)\n",
    "root.left.left = TreeNode(3)\n",
    "root.left.right = TreeNode(4)\n",
    "root.right.left = TreeNode(4)\n",
    "root.right.right = TreeNode(3)\n",
    "\n",
    "# [1,2,2,3,4,4,3] is symmetric:\n",
    "Solution().isSymmetric(root)"
   ]
  },
  {
   "cell_type": "code",
   "execution_count": 14,
   "metadata": {},
   "outputs": [
    {
     "name": "stdout",
     "output_type": "stream",
     "text": [
      "2 2\n",
      "0 3\n"
     ]
    },
    {
     "data": {
      "text/plain": [
       "False"
      ]
     },
     "execution_count": 14,
     "metadata": {},
     "output_type": "execute_result"
    }
   ],
   "source": [
    "root = TreeNode(1)\n",
    "root.left = TreeNode(2)\n",
    "root.right = TreeNode(2)\n",
    "root.left.left = TreeNode()\n",
    "root.left.right = TreeNode(3)\n",
    "root.right.left = TreeNode()\n",
    "root.right.right = TreeNode(3)\n",
    "\n",
    "# [1,2,2,null,3,null,3] is not:\n",
    "Solution().isSymmetric(root)"
   ]
  },
  {
   "cell_type": "markdown",
   "metadata": {},
   "source": [
    "## 104. Maximum Depth of Binary Tree (Easy)\n",
    "![avatar](https://assets.leetcode.com/uploads/2020/11/26/tmp-tree.jpg)"
   ]
  },
  {
   "cell_type": "code",
   "execution_count": 1,
   "metadata": {},
   "outputs": [],
   "source": [
    "# Definition for a binary tree node.\n",
    "class TreeNode:\n",
    "    def __init__(self, val = 0, left = None, right = None):\n",
    "        self.val = val\n",
    "        self.left = left\n",
    "        self.right = right\n",
    "\n",
    "#     def PrintTree(self):\n",
    "#         if self.left:\n",
    "#             self.left.PrintTree()\n",
    "#         print(self.val)\n",
    "#         if self.right:\n",
    "#             self.right.PrintTree()"
   ]
  },
  {
   "cell_type": "code",
   "execution_count": 2,
   "metadata": {},
   "outputs": [],
   "source": [
    "class Solution:\n",
    "    max_depth = 0\n",
    "    def maxDepth(self, root: TreeNode) -> int:\n",
    "        \n",
    "        if not root: return self.max_depth\n",
    "        self.checkMaxDepth(root, 0)\n",
    "        return self.max_depth+1\n",
    "    \n",
    "    def checkMaxDepth(self, node, depth):\n",
    "\n",
    "#         print(\"depth :\", depth)\n",
    "#         print(node.val)\n",
    "        if not node.left and not node.right:\n",
    "            if depth > self.max_depth: self.max_depth = depth \n",
    "#             print(\"---end---\")\n",
    "            return\n",
    "        else: \n",
    "            depth += 1\n",
    "            if node.left:\n",
    "                self.checkMaxDepth(node.left, depth)\n",
    "            if node.right:\n",
    "                self.checkMaxDepth(node.right, depth)"
   ]
  },
  {
   "cell_type": "code",
   "execution_count": 24,
   "metadata": {},
   "outputs": [],
   "source": [
    "#Genius...\n",
    "class Solution:\n",
    "    def maxDepth(self, root: TreeNode) -> int:\n",
    "        if root==None:\n",
    "            return 0\n",
    "        return 1+max(self.maxDepth(root.left),self.maxDepth(root.right))"
   ]
  },
  {
   "cell_type": "code",
   "execution_count": 3,
   "metadata": {},
   "outputs": [
    {
     "name": "stdout",
     "output_type": "stream",
     "text": [
      "depth : 0\n",
      "3\n",
      "depth : 1\n",
      "9\n",
      "depth : 2\n",
      "0\n",
      "---end---\n",
      "depth : 2\n",
      "0\n",
      "---end---\n",
      "depth : 1\n",
      "20\n",
      "depth : 2\n",
      "15\n",
      "---end---\n",
      "depth : 2\n",
      "7\n",
      "---end---\n"
     ]
    },
    {
     "data": {
      "text/plain": [
       "3"
      ]
     },
     "execution_count": 3,
     "metadata": {},
     "output_type": "execute_result"
    }
   ],
   "source": [
    "root = TreeNode(3)\n",
    "root.left = TreeNode(9)\n",
    "root.right = TreeNode(20)\n",
    "root.left.left = TreeNode()\n",
    "root.left.right = TreeNode()\n",
    "root.right.left = TreeNode(15)\n",
    "root.right.right = TreeNode(7)\n",
    "# Input: root = [3,9,20,null,null,15,7]\n",
    "# Output: 3\n",
    "Solution().maxDepth(root)"
   ]
  },
  {
   "cell_type": "code",
   "execution_count": 4,
   "metadata": {},
   "outputs": [
    {
     "name": "stdout",
     "output_type": "stream",
     "text": [
      "depth : 0\n",
      "1\n",
      "depth : 1\n",
      "2\n",
      "depth : 2\n",
      "4\n",
      "---end---\n",
      "depth : 2\n",
      "5\n",
      "---end---\n",
      "depth : 1\n",
      "3\n",
      "---end---\n"
     ]
    },
    {
     "data": {
      "text/plain": [
       "3"
      ]
     },
     "execution_count": 4,
     "metadata": {},
     "output_type": "execute_result"
    }
   ],
   "source": [
    "root = TreeNode(1)\n",
    "root.left = TreeNode(2)\n",
    "root.right = TreeNode(3)\n",
    "root.left.left = TreeNode(4)\n",
    "root.left.right = TreeNode(5)\n",
    "# Input: root = [3,9,20,null,null,15,7]\n",
    "# Output: 3\n",
    "Solution().maxDepth(root)"
   ]
  },
  {
   "cell_type": "code",
   "execution_count": 5,
   "metadata": {},
   "outputs": [
    {
     "name": "stdout",
     "output_type": "stream",
     "text": [
      "depth : 0\n",
      "1\n",
      "depth : 1\n",
      "0\n",
      "---end---\n",
      "depth : 1\n",
      "2\n",
      "---end---\n"
     ]
    },
    {
     "data": {
      "text/plain": [
       "2"
      ]
     },
     "execution_count": 5,
     "metadata": {},
     "output_type": "execute_result"
    }
   ],
   "source": [
    "root = TreeNode(1)\n",
    "root.left = TreeNode()\n",
    "root.right = TreeNode(2)\n",
    "# Input: root = [1,null,2]\n",
    "# Output: 2\n",
    "Solution().maxDepth(root)"
   ]
  },
  {
   "cell_type": "code",
   "execution_count": 6,
   "metadata": {},
   "outputs": [
    {
     "name": "stdout",
     "output_type": "stream",
     "text": [
      "depth : 0\n",
      "0\n",
      "---end---\n"
     ]
    },
    {
     "data": {
      "text/plain": [
       "1"
      ]
     },
     "execution_count": 6,
     "metadata": {},
     "output_type": "execute_result"
    }
   ],
   "source": [
    "root = TreeNode()\n",
    "# Input: root = []\n",
    "# Output: 0\n",
    "Solution().maxDepth(root)"
   ]
  },
  {
   "cell_type": "code",
   "execution_count": 7,
   "metadata": {},
   "outputs": [
    {
     "name": "stdout",
     "output_type": "stream",
     "text": [
      "depth : 0\n",
      "0\n",
      "---end---\n"
     ]
    },
    {
     "data": {
      "text/plain": [
       "1"
      ]
     },
     "execution_count": 7,
     "metadata": {},
     "output_type": "execute_result"
    }
   ],
   "source": [
    "root = TreeNode(0)\n",
    "# Input: root = [0]\n",
    "# Output: 1\n",
    "Solution().maxDepth(root)"
   ]
  },
  {
   "cell_type": "code",
   "execution_count": null,
   "metadata": {},
   "outputs": [],
   "source": []
  },
  {
   "cell_type": "code",
   "execution_count": null,
   "metadata": {},
   "outputs": [],
   "source": []
  },
  {
   "cell_type": "code",
   "execution_count": null,
   "metadata": {},
   "outputs": [],
   "source": []
  }
 ],
 "metadata": {
  "kernelspec": {
   "display_name": "Python 3",
   "language": "python",
   "name": "python3"
  },
  "language_info": {
   "codemirror_mode": {
    "name": "ipython",
    "version": 3
   },
   "file_extension": ".py",
   "mimetype": "text/x-python",
   "name": "python",
   "nbconvert_exporter": "python",
   "pygments_lexer": "ipython3",
   "version": "3.6.4"
  }
 },
 "nbformat": 4,
 "nbformat_minor": 4
}
