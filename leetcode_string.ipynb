{
 "cells": [
  {
   "cell_type": "markdown",
   "metadata": {},
   "source": [
    "# String "
   ]
  },
  {
   "cell_type": "markdown",
   "metadata": {},
   "source": [
    "## (Medium) 12. Integer to Roman"
   ]
  },
  {
   "cell_type": "code",
   "execution_count": 1,
   "metadata": {},
   "outputs": [],
   "source": [
    "class Solution:\n",
    "    def intToRoman(self, num: int) -> str:\n",
    "        symbol_value = {\"M\":1000, \"CM\":900, \"D\":500, \"CD\":400,\n",
    "                \"C\":100 , \"XC\":90 , \"L\":50 , \"XL\":40 ,\n",
    "                \"X\":10  , \"IX\":9  , \"V\":5  , \"IV\":4  ,\n",
    "                \"I\":1}\n",
    "        roman = \"\"\n",
    "        for i in symbol_value:\n",
    "            roman += i*(num//symbol_value[i])\n",
    "            num = num%symbol_value[i]\n",
    "        return roman"
   ]
  },
  {
   "cell_type": "code",
   "execution_count": 2,
   "metadata": {},
   "outputs": [
    {
     "data": {
      "text/plain": [
       "'III'"
      ]
     },
     "execution_count": 2,
     "metadata": {},
     "output_type": "execute_result"
    }
   ],
   "source": [
    "num = 3\n",
    "# Output: \"III\"\n",
    "a = []\n",
    "Solution.intToRoman(a, num)"
   ]
  },
  {
   "cell_type": "code",
   "execution_count": 3,
   "metadata": {},
   "outputs": [
    {
     "data": {
      "text/plain": [
       "'IV'"
      ]
     },
     "execution_count": 3,
     "metadata": {},
     "output_type": "execute_result"
    }
   ],
   "source": [
    "num = 4\n",
    "# Output: \"IV\"\n",
    "a = []\n",
    "Solution.intToRoman(a, num)"
   ]
  },
  {
   "cell_type": "code",
   "execution_count": 4,
   "metadata": {},
   "outputs": [
    {
     "data": {
      "text/plain": [
       "'IX'"
      ]
     },
     "execution_count": 4,
     "metadata": {},
     "output_type": "execute_result"
    }
   ],
   "source": [
    "num = 9\n",
    "# Output: \"IX\"\n",
    "a = []\n",
    "Solution.intToRoman(a, num)"
   ]
  },
  {
   "cell_type": "code",
   "execution_count": 5,
   "metadata": {},
   "outputs": [
    {
     "data": {
      "text/plain": [
       "'LVIII'"
      ]
     },
     "execution_count": 5,
     "metadata": {},
     "output_type": "execute_result"
    }
   ],
   "source": [
    "num = 58\n",
    "# Output: \"LVIII\"\n",
    "# Explanation: L = 50, V = 5, III = 3.\n",
    "a = []\n",
    "Solution.intToRoman(a, num)"
   ]
  },
  {
   "cell_type": "code",
   "execution_count": 6,
   "metadata": {},
   "outputs": [
    {
     "data": {
      "text/plain": [
       "'MCMXCIV'"
      ]
     },
     "execution_count": 6,
     "metadata": {},
     "output_type": "execute_result"
    }
   ],
   "source": [
    "num = 1994\n",
    "# Output: \"MCMXCIV\"\n",
    "# Explanation: M = 1000, CM = 900, XC = 90 and IV = 4.\n",
    "a = []\n",
    "Solution.intToRoman(a, num)"
   ]
  },
  {
   "cell_type": "markdown",
   "metadata": {},
   "source": [
    "## (Easy) 13. Roman to Integer"
   ]
  },
  {
   "cell_type": "code",
   "execution_count": 7,
   "metadata": {},
   "outputs": [],
   "source": [
    "class Solution:\n",
    "    def romanToInt(self, s: str) -> int:\n",
    "        symbol_value = {\"M\":1000, \"D\":500, \"C\":100 , \"L\":50 ,\n",
    "                        \"X\":10  , \"V\":5  ,\"I\":1}\n",
    "        prev = symbol_value[s[0]]\n",
    "        ans = 0\n",
    "        for i in s :\n",
    "            curr = symbol_value[i]\n",
    "\n",
    "            if prev < curr :\n",
    "                ans -= prev\n",
    "                ans += (curr - prev)\n",
    "            else :\n",
    "                ans += curr\n",
    "            prev = curr\n",
    "\n",
    "        return ans"
   ]
  },
  {
   "cell_type": "code",
   "execution_count": 8,
   "metadata": {},
   "outputs": [
    {
     "data": {
      "text/plain": [
       "3"
      ]
     },
     "execution_count": 8,
     "metadata": {},
     "output_type": "execute_result"
    }
   ],
   "source": [
    "s = \"III\"\n",
    "# Output: 3\n",
    "a = []\n",
    "Solution.romanToInt(a, s)"
   ]
  },
  {
   "cell_type": "code",
   "execution_count": 9,
   "metadata": {},
   "outputs": [
    {
     "data": {
      "text/plain": [
       "4"
      ]
     },
     "execution_count": 9,
     "metadata": {},
     "output_type": "execute_result"
    }
   ],
   "source": [
    "s = \"IV\"\n",
    "# Output: 4\n",
    "a = []\n",
    "Solution.romanToInt(a, s)"
   ]
  },
  {
   "cell_type": "code",
   "execution_count": 10,
   "metadata": {},
   "outputs": [
    {
     "data": {
      "text/plain": [
       "9"
      ]
     },
     "execution_count": 10,
     "metadata": {},
     "output_type": "execute_result"
    }
   ],
   "source": [
    "s = \"IX\"\n",
    "# Output: 9\n",
    "a = []\n",
    "Solution.romanToInt(a, s)"
   ]
  },
  {
   "cell_type": "code",
   "execution_count": 11,
   "metadata": {},
   "outputs": [
    {
     "data": {
      "text/plain": [
       "58"
      ]
     },
     "execution_count": 11,
     "metadata": {},
     "output_type": "execute_result"
    }
   ],
   "source": [
    "s = \"LVIII\"\n",
    "# Output: 58\n",
    "# Explanation: L = 50, V= 5, III = 3.\n",
    "a = []\n",
    "Solution.romanToInt(a, s)"
   ]
  },
  {
   "cell_type": "code",
   "execution_count": 12,
   "metadata": {},
   "outputs": [
    {
     "data": {
      "text/plain": [
       "1994"
      ]
     },
     "execution_count": 12,
     "metadata": {},
     "output_type": "execute_result"
    }
   ],
   "source": [
    "s = \"MCMXCIV\"\n",
    "# Output: 1994\n",
    "# Explanation: M = 1000, CM = 900, XC = 90 and IV = 4.\n",
    "a = []\n",
    "Solution.romanToInt(a, s)"
   ]
  },
  {
   "cell_type": "markdown",
   "metadata": {},
   "source": [
    "## (Easy) 14. Longest Common Prefix"
   ]
  },
  {
   "cell_type": "code",
   "execution_count": 13,
   "metadata": {},
   "outputs": [],
   "source": [
    "class Solution:\n",
    "    def longestCommonPrefix(self, strs: [str]) -> str:\n",
    "        ans = \"\"\n",
    "        for i in zip(*strs):\n",
    "            if len(set(i)) != 1:\n",
    "                break\n",
    "            ans += i[0]\n",
    "        return ans"
   ]
  },
  {
   "cell_type": "code",
   "execution_count": 14,
   "metadata": {},
   "outputs": [
    {
     "data": {
      "text/plain": [
       "'fl'"
      ]
     },
     "execution_count": 14,
     "metadata": {},
     "output_type": "execute_result"
    }
   ],
   "source": [
    "strs = [\"flower\",\"flow\",\"flight\"]\n",
    "# Output: \"fl\"\n",
    "a = []\n",
    "Solution.longestCommonPrefix(a, strs)"
   ]
  },
  {
   "cell_type": "code",
   "execution_count": 15,
   "metadata": {},
   "outputs": [
    {
     "data": {
      "text/plain": [
       "''"
      ]
     },
     "execution_count": 15,
     "metadata": {},
     "output_type": "execute_result"
    }
   ],
   "source": [
    "strs = [\"dog\",\"racecar\",\"car\"]\n",
    "# Output: \"\"\n",
    "# Explanation: There is no common prefix among the input strings.\n",
    "a = []\n",
    "Solution.longestCommonPrefix(a, strs)"
   ]
  },
  {
   "cell_type": "markdown",
   "metadata": {},
   "source": [
    "## (Easy) 20. Valid Parentheses"
   ]
  },
  {
   "cell_type": "code",
   "execution_count": 16,
   "metadata": {},
   "outputs": [],
   "source": [
    "class Solution:\n",
    "    \"\"\"Stack : First in Last Out\"\"\"\n",
    "    def isValid(self, s: str) -> bool:\n",
    "        \n",
    "        stack = []\n",
    "        left = {\")\":\"(\", \"]\":\"[\", \"}\":\"{\"}\n",
    "        for i in range(len(s)):\n",
    "            if s[i] in left.values():\n",
    "                stack.append(s[i])\n",
    "            else:\n",
    "                if (len(stack) > 0) and (stack[-1] == left[s[i]]):\n",
    "                    stack.pop()\n",
    "                else:\n",
    "                    return False\n",
    "        return len(stack) == 0\n",
    "############## Type 2\n",
    "#         stack = []\n",
    "#         left = [\"(\",\"[\",\"{\"]\n",
    "        \n",
    "#         for i in range(len(s)):\n",
    "#             if s[i] in left :\n",
    "#                 stack.append(s[i])\n",
    "#             elif len(stack) == 0:\n",
    "#                 return False\n",
    "#             elif s[i] == \")\" and stack.pop() != \"(\":\n",
    "#                 return False\n",
    "#             elif s[i] == \"]\" and stack.pop() != \"[\":\n",
    "#                 return False\n",
    "#             elif s[i] == \"}\" and stack.pop() != \"{\":\n",
    "#                 return False\n",
    "            \n",
    "#         if len(stack) == 0:\n",
    "#             return True\n",
    "#         return False\n",
    "############## Type 3\n",
    "#         stack = []\n",
    "#         left = [\"(\",\"[\",\"{\"]\n",
    "#         for i in range(len(s)):\n",
    "#             if not stack:\n",
    "#                 stack.append(s[i])\n",
    "#             else:\n",
    "#                 if s[i] in left :\n",
    "#                     stack.append(s[i])\n",
    "#                 else:\n",
    "#                     last = stack.pop()\n",
    "#                     if (s[i] == \")\" and last != \"(\") or \\\n",
    "#                        (s[i] == \"]\" and last != \"[\") or \\\n",
    "#                        (s[i] == \"}\" and last != \"{\"):\n",
    "#                         return False\n",
    "#         return not stack"
   ]
  },
  {
   "cell_type": "code",
   "execution_count": 17,
   "metadata": {},
   "outputs": [
    {
     "data": {
      "text/plain": [
       "True"
      ]
     },
     "execution_count": 17,
     "metadata": {},
     "output_type": "execute_result"
    }
   ],
   "source": [
    "s = \"()\"\n",
    "# Output: true\n",
    "a = []\n",
    "Solution.isValid(a, s)"
   ]
  },
  {
   "cell_type": "code",
   "execution_count": 18,
   "metadata": {},
   "outputs": [
    {
     "data": {
      "text/plain": [
       "True"
      ]
     },
     "execution_count": 18,
     "metadata": {},
     "output_type": "execute_result"
    }
   ],
   "source": [
    "s = \"()[]{}\"\n",
    "# Output: true\n",
    "a = []\n",
    "Solution.isValid(a, s)"
   ]
  },
  {
   "cell_type": "code",
   "execution_count": 19,
   "metadata": {},
   "outputs": [
    {
     "data": {
      "text/plain": [
       "False"
      ]
     },
     "execution_count": 19,
     "metadata": {},
     "output_type": "execute_result"
    }
   ],
   "source": [
    "s = \"(]\"\n",
    "# Output: false\n",
    "a = []\n",
    "Solution.isValid(a, s)"
   ]
  },
  {
   "cell_type": "code",
   "execution_count": 20,
   "metadata": {},
   "outputs": [
    {
     "data": {
      "text/plain": [
       "False"
      ]
     },
     "execution_count": 20,
     "metadata": {},
     "output_type": "execute_result"
    }
   ],
   "source": [
    "s = \"([)]\"\n",
    "# Output: false\n",
    "a = []\n",
    "Solution.isValid(a, s)"
   ]
  },
  {
   "cell_type": "code",
   "execution_count": 21,
   "metadata": {},
   "outputs": [
    {
     "data": {
      "text/plain": [
       "True"
      ]
     },
     "execution_count": 21,
     "metadata": {},
     "output_type": "execute_result"
    }
   ],
   "source": [
    "s = \"{[]}\"\n",
    "# Output: true\n",
    "a = []\n",
    "Solution.isValid(a, s)"
   ]
  },
  {
   "cell_type": "code",
   "execution_count": 22,
   "metadata": {},
   "outputs": [
    {
     "data": {
      "text/plain": [
       "False"
      ]
     },
     "execution_count": 22,
     "metadata": {},
     "output_type": "execute_result"
    }
   ],
   "source": [
    "s = \"[(\"\n",
    "# Output: false\n",
    "a = []\n",
    "Solution.isValid(a, s)"
   ]
  },
  {
   "cell_type": "code",
   "execution_count": 23,
   "metadata": {},
   "outputs": [
    {
     "data": {
      "text/plain": [
       "False"
      ]
     },
     "execution_count": 23,
     "metadata": {},
     "output_type": "execute_result"
    }
   ],
   "source": [
    "s = \"]\"\n",
    "# Output: false\n",
    "a = []\n",
    "Solution.isValid(a, s)"
   ]
  }
 ],
 "metadata": {
  "kernelspec": {
   "display_name": "Python 3",
   "language": "python",
   "name": "python3"
  },
  "language_info": {
   "codemirror_mode": {
    "name": "ipython",
    "version": 3
   },
   "file_extension": ".py",
   "mimetype": "text/x-python",
   "name": "python",
   "nbconvert_exporter": "python",
   "pygments_lexer": "ipython3",
   "version": "3.6.4"
  }
 },
 "nbformat": 4,
 "nbformat_minor": 4
}
