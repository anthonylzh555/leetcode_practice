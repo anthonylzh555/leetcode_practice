{
 "cells": [
  {
   "cell_type": "markdown",
   "metadata": {},
   "source": [
    "# String "
   ]
  },
  {
   "cell_type": "markdown",
   "metadata": {},
   "source": [
    "## (Medium) 12. Integer to Roman"
   ]
  },
  {
   "cell_type": "code",
   "execution_count": null,
   "metadata": {},
   "outputs": [],
   "source": [
    "class Solution:\n",
    "    def intToRoman(self, num: int) -> str:\n",
    "        symbol_value = {\"M\":1000, \"CM\":900, \"D\":500, \"CD\":400,\n",
    "                \"C\":100 , \"XC\":90 , \"L\":50 , \"XL\":40 ,\n",
    "                \"X\":10  , \"IX\":9  , \"V\":5  , \"IV\":4  ,\n",
    "                \"I\":1}\n",
    "        roman = \"\"\n",
    "        for i in symbol_value:\n",
    "            roman += i*(num//symbol_value[i])\n",
    "            num = num%symbol_value[i]\n",
    "        return roman"
   ]
  },
  {
   "cell_type": "code",
   "execution_count": 2,
   "metadata": {},
   "outputs": [
    {
     "data": {
      "text/plain": [
       "'III'"
      ]
     },
     "execution_count": 2,
     "metadata": {},
     "output_type": "execute_result"
    }
   ],
   "source": [
    "num = 3\n",
    "# Output: \"III\"\n",
    "a = []\n",
    "Solution.intToRoman(a, num)"
   ]
  },
  {
   "cell_type": "code",
   "execution_count": 3,
   "metadata": {},
   "outputs": [
    {
     "data": {
      "text/plain": [
       "'IV'"
      ]
     },
     "execution_count": 3,
     "metadata": {},
     "output_type": "execute_result"
    }
   ],
   "source": [
    "num = 4\n",
    "# Output: \"IV\"\n",
    "a = []\n",
    "Solution.intToRoman(a, num)"
   ]
  },
  {
   "cell_type": "code",
   "execution_count": 4,
   "metadata": {},
   "outputs": [
    {
     "data": {
      "text/plain": [
       "'IX'"
      ]
     },
     "execution_count": 4,
     "metadata": {},
     "output_type": "execute_result"
    }
   ],
   "source": [
    "num = 9\n",
    "# Output: \"IX\"\n",
    "a = []\n",
    "Solution.intToRoman(a, num)"
   ]
  },
  {
   "cell_type": "code",
   "execution_count": 5,
   "metadata": {},
   "outputs": [
    {
     "data": {
      "text/plain": [
       "'LVIII'"
      ]
     },
     "execution_count": 5,
     "metadata": {},
     "output_type": "execute_result"
    }
   ],
   "source": [
    "num = 58\n",
    "# Output: \"LVIII\"\n",
    "# Explanation: L = 50, V = 5, III = 3.\n",
    "a = []\n",
    "Solution.intToRoman(a, num)"
   ]
  },
  {
   "cell_type": "code",
   "execution_count": 6,
   "metadata": {},
   "outputs": [
    {
     "data": {
      "text/plain": [
       "'MCMXCIV'"
      ]
     },
     "execution_count": 6,
     "metadata": {},
     "output_type": "execute_result"
    }
   ],
   "source": [
    "num = 1994\n",
    "# Output: \"MCMXCIV\"\n",
    "# Explanation: M = 1000, CM = 900, XC = 90 and IV = 4.\n",
    "a = []\n",
    "Solution.intToRoman(a, num)"
   ]
  },
  {
   "cell_type": "markdown",
   "metadata": {},
   "source": [
    "## (Easy) 13. Roman to Integer"
   ]
  },
  {
   "cell_type": "code",
   "execution_count": 7,
   "metadata": {},
   "outputs": [],
   "source": [
    "class Solution:\n",
    "    def romanToInt(self, s: str) -> int:\n",
    "        symbol_value = {\"M\":1000, \"D\":500, \"C\":100 , \"L\":50 ,\n",
    "                        \"X\":10  , \"V\":5  ,\"I\":1}\n",
    "        prev = symbol_value[s[0]]\n",
    "        ans = 0\n",
    "        for i in s :\n",
    "            curr = symbol_value[i]\n",
    "\n",
    "            if prev < curr :\n",
    "                ans -= prev\n",
    "                ans += (curr - prev)\n",
    "            else :\n",
    "                ans += curr\n",
    "            prev = curr\n",
    "\n",
    "        return ans"
   ]
  },
  {
   "cell_type": "code",
   "execution_count": 8,
   "metadata": {},
   "outputs": [
    {
     "data": {
      "text/plain": [
       "3"
      ]
     },
     "execution_count": 8,
     "metadata": {},
     "output_type": "execute_result"
    }
   ],
   "source": [
    "s = \"III\"\n",
    "# Output: 3\n",
    "a = []\n",
    "Solution.romanToInt(a, s)"
   ]
  },
  {
   "cell_type": "code",
   "execution_count": 9,
   "metadata": {},
   "outputs": [
    {
     "data": {
      "text/plain": [
       "4"
      ]
     },
     "execution_count": 9,
     "metadata": {},
     "output_type": "execute_result"
    }
   ],
   "source": [
    "s = \"IV\"\n",
    "# Output: 4\n",
    "a = []\n",
    "Solution.romanToInt(a, s)"
   ]
  },
  {
   "cell_type": "code",
   "execution_count": 10,
   "metadata": {},
   "outputs": [
    {
     "data": {
      "text/plain": [
       "9"
      ]
     },
     "execution_count": 10,
     "metadata": {},
     "output_type": "execute_result"
    }
   ],
   "source": [
    "s = \"IX\"\n",
    "# Output: 9\n",
    "a = []\n",
    "Solution.romanToInt(a, s)"
   ]
  },
  {
   "cell_type": "code",
   "execution_count": 11,
   "metadata": {},
   "outputs": [
    {
     "data": {
      "text/plain": [
       "58"
      ]
     },
     "execution_count": 11,
     "metadata": {},
     "output_type": "execute_result"
    }
   ],
   "source": [
    "s = \"LVIII\"\n",
    "# Output: 58\n",
    "# Explanation: L = 50, V= 5, III = 3.\n",
    "a = []\n",
    "Solution.romanToInt(a, s)"
   ]
  },
  {
   "cell_type": "code",
   "execution_count": 12,
   "metadata": {},
   "outputs": [
    {
     "data": {
      "text/plain": [
       "1994"
      ]
     },
     "execution_count": 12,
     "metadata": {},
     "output_type": "execute_result"
    }
   ],
   "source": [
    "s = \"MCMXCIV\"\n",
    "# Output: 1994\n",
    "# Explanation: M = 1000, CM = 900, XC = 90 and IV = 4.\n",
    "a = []\n",
    "Solution.romanToInt(a, s)"
   ]
  },
  {
   "cell_type": "markdown",
   "metadata": {},
   "source": [
    "## (Easy) 14. Longest Common Prefix"
   ]
  },
  {
   "cell_type": "code",
   "execution_count": 13,
   "metadata": {},
   "outputs": [],
   "source": [
    "class Solution:\n",
    "    def longestCommonPrefix(self, strs: [str]) -> str:\n",
    "        ans = \"\"\n",
    "        for i in zip(*strs):\n",
    "            if len(set(i)) != 1:\n",
    "                break\n",
    "            ans += i[0]\n",
    "        return ans"
   ]
  },
  {
   "cell_type": "code",
   "execution_count": 14,
   "metadata": {},
   "outputs": [
    {
     "data": {
      "text/plain": [
       "'fl'"
      ]
     },
     "execution_count": 14,
     "metadata": {},
     "output_type": "execute_result"
    }
   ],
   "source": [
    "strs = [\"flower\",\"flow\",\"flight\"]\n",
    "# Output: \"fl\"\n",
    "a = []\n",
    "Solution.longestCommonPrefix(a, strs)"
   ]
  },
  {
   "cell_type": "code",
   "execution_count": 15,
   "metadata": {},
   "outputs": [
    {
     "data": {
      "text/plain": [
       "''"
      ]
     },
     "execution_count": 15,
     "metadata": {},
     "output_type": "execute_result"
    }
   ],
   "source": [
    "strs = [\"dog\",\"racecar\",\"car\"]\n",
    "# Output: \"\"\n",
    "# Explanation: There is no common prefix among the input strings.\n",
    "a = []\n",
    "Solution.longestCommonPrefix(a, strs)"
   ]
  },
  {
   "cell_type": "markdown",
   "metadata": {},
   "source": [
    "## (Easy) 20. Valid Parentheses"
   ]
  },
  {
   "cell_type": "code",
   "execution_count": 16,
   "metadata": {},
   "outputs": [],
   "source": [
    "class Solution:\n",
    "    \"\"\"Stack : First in Last Out\"\"\"\n",
    "    def isValid(self, s: str) -> bool:\n",
    "        \n",
    "        stack = []\n",
    "        left = {\")\":\"(\", \"]\":\"[\", \"}\":\"{\"}\n",
    "        for i in range(len(s)):\n",
    "            if s[i] in left.values():\n",
    "                stack.append(s[i])\n",
    "            else:\n",
    "                if (len(stack) > 0) and (stack[-1] == left[s[i]]):\n",
    "                    stack.pop()\n",
    "                else:\n",
    "                    return False\n",
    "        return len(stack) == 0\n",
    "############## Type 2\n",
    "#         stack = []\n",
    "#         left = [\"(\",\"[\",\"{\"]\n",
    "        \n",
    "#         for i in range(len(s)):\n",
    "#             if s[i] in left :\n",
    "#                 stack.append(s[i])\n",
    "#             elif len(stack) == 0:\n",
    "#                 return False\n",
    "#             elif s[i] == \")\" and stack.pop() != \"(\":\n",
    "#                 return False\n",
    "#             elif s[i] == \"]\" and stack.pop() != \"[\":\n",
    "#                 return False\n",
    "#             elif s[i] == \"}\" and stack.pop() != \"{\":\n",
    "#                 return False\n",
    "            \n",
    "#         if len(stack) == 0:\n",
    "#             return True\n",
    "#         return False\n",
    "############## Type 3\n",
    "#         stack = []\n",
    "#         left = [\"(\",\"[\",\"{\"]\n",
    "#         for i in range(len(s)):\n",
    "#             if not stack:\n",
    "#                 stack.append(s[i])\n",
    "#             else:\n",
    "#                 if s[i] in left :\n",
    "#                     stack.append(s[i])\n",
    "#                 else:\n",
    "#                     last = stack.pop()\n",
    "#                     if (s[i] == \")\" and last != \"(\") or \\\n",
    "#                        (s[i] == \"]\" and last != \"[\") or \\\n",
    "#                        (s[i] == \"}\" and last != \"{\"):\n",
    "#                         return False\n",
    "#         return not stack"
   ]
  },
  {
   "cell_type": "code",
   "execution_count": 17,
   "metadata": {},
   "outputs": [
    {
     "data": {
      "text/plain": [
       "True"
      ]
     },
     "execution_count": 17,
     "metadata": {},
     "output_type": "execute_result"
    }
   ],
   "source": [
    "s = \"()\"\n",
    "# Output: true\n",
    "a = []\n",
    "Solution.isValid(a, s)"
   ]
  },
  {
   "cell_type": "code",
   "execution_count": 18,
   "metadata": {},
   "outputs": [
    {
     "data": {
      "text/plain": [
       "True"
      ]
     },
     "execution_count": 18,
     "metadata": {},
     "output_type": "execute_result"
    }
   ],
   "source": [
    "s = \"()[]{}\"\n",
    "# Output: true\n",
    "a = []\n",
    "Solution.isValid(a, s)"
   ]
  },
  {
   "cell_type": "code",
   "execution_count": 19,
   "metadata": {},
   "outputs": [
    {
     "data": {
      "text/plain": [
       "False"
      ]
     },
     "execution_count": 19,
     "metadata": {},
     "output_type": "execute_result"
    }
   ],
   "source": [
    "s = \"(]\"\n",
    "# Output: false\n",
    "a = []\n",
    "Solution.isValid(a, s)"
   ]
  },
  {
   "cell_type": "code",
   "execution_count": 20,
   "metadata": {},
   "outputs": [
    {
     "data": {
      "text/plain": [
       "False"
      ]
     },
     "execution_count": 20,
     "metadata": {},
     "output_type": "execute_result"
    }
   ],
   "source": [
    "s = \"([)]\"\n",
    "# Output: false\n",
    "a = []\n",
    "Solution.isValid(a, s)"
   ]
  },
  {
   "cell_type": "code",
   "execution_count": 21,
   "metadata": {},
   "outputs": [
    {
     "data": {
      "text/plain": [
       "True"
      ]
     },
     "execution_count": 21,
     "metadata": {},
     "output_type": "execute_result"
    }
   ],
   "source": [
    "s = \"{[]}\"\n",
    "# Output: true\n",
    "a = []\n",
    "Solution.isValid(a, s)"
   ]
  },
  {
   "cell_type": "code",
   "execution_count": 22,
   "metadata": {},
   "outputs": [
    {
     "data": {
      "text/plain": [
       "False"
      ]
     },
     "execution_count": 22,
     "metadata": {},
     "output_type": "execute_result"
    }
   ],
   "source": [
    "s = \"[(\"\n",
    "# Output: false\n",
    "a = []\n",
    "Solution.isValid(a, s)"
   ]
  },
  {
   "cell_type": "code",
   "execution_count": 23,
   "metadata": {},
   "outputs": [
    {
     "data": {
      "text/plain": [
       "False"
      ]
     },
     "execution_count": 23,
     "metadata": {},
     "output_type": "execute_result"
    }
   ],
   "source": [
    "s = \"]\"\n",
    "# Output: false\n",
    "a = []\n",
    "Solution.isValid(a, s)"
   ]
  },
  {
   "cell_type": "markdown",
   "metadata": {},
   "source": [
    "## (Easy) 28. Implement strStr()"
   ]
  },
  {
   "cell_type": "code",
   "execution_count": 24,
   "metadata": {},
   "outputs": [],
   "source": [
    "class Solution:\n",
    "    def strStr(self, haystack: str, needle: str) -> int:\n",
    "        if haystack == \"\" and needle == \"\":\n",
    "            return 0\n",
    "        for i in range(0, len(haystack)- len(needle) +1):\n",
    "            if haystack[i:i + len(needle)] == needle :\n",
    "                return i\n",
    "        return (-1)"
   ]
  },
  {
   "cell_type": "code",
   "execution_count": 25,
   "metadata": {},
   "outputs": [
    {
     "data": {
      "text/plain": [
       "2"
      ]
     },
     "execution_count": 25,
     "metadata": {},
     "output_type": "execute_result"
    }
   ],
   "source": [
    "haystack = \"hello\"\n",
    "needle = \"ll\"\n",
    "# Output: 2\n",
    "a = []\n",
    "Solution.strStr(a, haystack, needle)"
   ]
  },
  {
   "cell_type": "code",
   "execution_count": 26,
   "metadata": {},
   "outputs": [
    {
     "data": {
      "text/plain": [
       "-1"
      ]
     },
     "execution_count": 26,
     "metadata": {},
     "output_type": "execute_result"
    }
   ],
   "source": [
    "haystack = \"aaaaa\"\n",
    "needle = \"bba\"\n",
    "# Output: -1\n",
    "a = []\n",
    "Solution.strStr(a, haystack, needle)"
   ]
  },
  {
   "cell_type": "code",
   "execution_count": 27,
   "metadata": {},
   "outputs": [
    {
     "data": {
      "text/plain": [
       "0"
      ]
     },
     "execution_count": 27,
     "metadata": {},
     "output_type": "execute_result"
    }
   ],
   "source": [
    "haystack = \"\"\n",
    "needle = \"\"\n",
    "# Output: 0\n",
    "a = []\n",
    "Solution.strStr(a, haystack, needle)"
   ]
  },
  {
   "cell_type": "code",
   "execution_count": 28,
   "metadata": {},
   "outputs": [
    {
     "data": {
      "text/plain": [
       "-1"
      ]
     },
     "execution_count": 28,
     "metadata": {},
     "output_type": "execute_result"
    }
   ],
   "source": [
    "haystack = \"\"\n",
    "needle = \"a\"\n",
    "# Output: -1\n",
    "a = []\n",
    "Solution.strStr(a, haystack, needle)"
   ]
  },
  {
   "cell_type": "markdown",
   "metadata": {},
   "source": [
    "## (Easy) 38. Count and Say"
   ]
  },
  {
   "cell_type": "code",
   "execution_count": 29,
   "metadata": {},
   "outputs": [],
   "source": [
    "class Solution():\n",
    "    def countAndSay(self, n) :\n",
    "        if n <= 1:\n",
    "            return \"1\"\n",
    "        \n",
    "        start = self.countAndSay(n-1)\n",
    "        count = 0\n",
    "        res = \"\"\n",
    "        previous = start[0]\n",
    "\n",
    "        for j in range(len(start)):\n",
    "            if previous == start[j]:\n",
    "                count += 1\n",
    "            else:\n",
    "                res += str(count) + previous\n",
    "                count = 1\n",
    "                previous = start[j]\n",
    "\n",
    "        res += str(count) + previous\n",
    "        start = res\n",
    "        return res\n",
    "\n",
    "################### recursion ###################\n",
    "# class Solution:\n",
    "#     def countAndSay(self, n: int) -> str:\n",
    "#         if n <= 1:\n",
    "#             return \"1\"\n",
    "        \n",
    "#         start = \"1\"\n",
    "#         for i in range(n-1):\n",
    "#             count = 0\n",
    "#             res = \"\"\n",
    "#             previous = start[0]\n",
    "#             for j in range(len(start)):\n",
    "#                 if previous == start[j]:\n",
    "#                     count += 1\n",
    "#                 else:\n",
    "#                     res += str(count) + previous\n",
    "#                     count = 1\n",
    "#                     previous = start[j]\n",
    "#             res += str(count) + previous\n",
    "#             start = res\n",
    "#         return res"
   ]
  },
  {
   "cell_type": "code",
   "execution_count": 30,
   "metadata": {},
   "outputs": [
    {
     "data": {
      "text/plain": [
       "'11'"
      ]
     },
     "execution_count": 30,
     "metadata": {},
     "output_type": "execute_result"
    }
   ],
   "source": [
    "n = 2\n",
    "a = Solution()\n",
    "a.countAndSay(n)"
   ]
  },
  {
   "cell_type": "code",
   "execution_count": 31,
   "metadata": {},
   "outputs": [
    {
     "data": {
      "text/plain": [
       "'21'"
      ]
     },
     "execution_count": 31,
     "metadata": {},
     "output_type": "execute_result"
    }
   ],
   "source": [
    "n = 3\n",
    "a = Solution()\n",
    "a.countAndSay(n)"
   ]
  },
  {
   "cell_type": "code",
   "execution_count": 32,
   "metadata": {},
   "outputs": [
    {
     "data": {
      "text/plain": [
       "'1211'"
      ]
     },
     "execution_count": 32,
     "metadata": {},
     "output_type": "execute_result"
    }
   ],
   "source": [
    "n = 4\n",
    "a = Solution()\n",
    "a.countAndSay(n)"
   ]
  },
  {
   "cell_type": "markdown",
   "metadata": {},
   "source": [
    "## (Easy) 58. Length of Last Word"
   ]
  },
  {
   "cell_type": "code",
   "execution_count": 33,
   "metadata": {},
   "outputs": [],
   "source": [
    "class Solution:\n",
    "    def lengthOfLastWord(self, s: str) -> int:\n",
    "        return len(s.rstrip(\" \").split(\" \")[-1])"
   ]
  },
  {
   "cell_type": "code",
   "execution_count": 34,
   "metadata": {},
   "outputs": [
    {
     "data": {
      "text/plain": [
       "5"
      ]
     },
     "execution_count": 34,
     "metadata": {},
     "output_type": "execute_result"
    }
   ],
   "source": [
    "s = \"Hello World\"\n",
    "# Output: 5\n",
    "a = Solution()\n",
    "a.lengthOfLastWord(s)"
   ]
  },
  {
   "cell_type": "code",
   "execution_count": 35,
   "metadata": {},
   "outputs": [
    {
     "data": {
      "text/plain": [
       "0"
      ]
     },
     "execution_count": 35,
     "metadata": {},
     "output_type": "execute_result"
    }
   ],
   "source": [
    "s = \" \"\n",
    "# Output: 0\n",
    "a = Solution()\n",
    "a.lengthOfLastWord(s)"
   ]
  },
  {
   "cell_type": "code",
   "execution_count": 36,
   "metadata": {},
   "outputs": [
    {
     "data": {
      "text/plain": [
       "1"
      ]
     },
     "execution_count": 36,
     "metadata": {},
     "output_type": "execute_result"
    }
   ],
   "source": [
    "s = \"a \"\n",
    "# Output: 1\n",
    "a = Solution()\n",
    "a.lengthOfLastWord(s)"
   ]
  },
  {
   "cell_type": "code",
   "execution_count": 37,
   "metadata": {},
   "outputs": [
    {
     "data": {
      "text/plain": [
       "1"
      ]
     },
     "execution_count": 37,
     "metadata": {},
     "output_type": "execute_result"
    }
   ],
   "source": [
    "s = \"b   a    \"\n",
    "# Output: 1\n",
    "a = Solution()\n",
    "a.lengthOfLastWord(s)"
   ]
  },
  {
   "cell_type": "markdown",
   "metadata": {},
   "source": [
    "## (Easy) 67. Add Binary"
   ]
  },
  {
   "cell_type": "code",
   "execution_count": 38,
   "metadata": {},
   "outputs": [],
   "source": [
    "class Solution:\n",
    "    def addBinary(self, a: str, b: str) -> str:\n",
    "        return (bin(int(a, 2)+ int(b,2))[2:])\n",
    "        \n",
    "########################################\n",
    "# class Solution(object):\n",
    "#     def addBinary(self, a, b):\n",
    "#         res = ''\n",
    "#         carry = 0\n",
    "#         new_a = list(a)\n",
    "#         new_b = list(b)\n",
    "#         while new_a or new_b or carry:\n",
    "#             if new_a:\n",
    "#                 carry += int(new_a.pop())\n",
    "\n",
    "#             if new_b:\n",
    "#                 carry += int(new_b.pop())\n",
    "#             res = str(carry%2) + res\n",
    "#             carry //= 2\n",
    "#         return res\n",
    "        "
   ]
  },
  {
   "cell_type": "code",
   "execution_count": 39,
   "metadata": {},
   "outputs": [
    {
     "data": {
      "text/plain": [
       "'100'"
      ]
     },
     "execution_count": 39,
     "metadata": {},
     "output_type": "execute_result"
    }
   ],
   "source": [
    "a = \"11\"\n",
    "b = \"1\"\n",
    "# Output: \"100\"\n",
    "sol = Solution()\n",
    "sol.addBinary(a,b)"
   ]
  },
  {
   "cell_type": "code",
   "execution_count": 40,
   "metadata": {},
   "outputs": [
    {
     "data": {
      "text/plain": [
       "'10101'"
      ]
     },
     "execution_count": 40,
     "metadata": {},
     "output_type": "execute_result"
    }
   ],
   "source": [
    "a = \"1010\"\n",
    "b = \"1011\"\n",
    "# Output: \"10101\"\n",
    "sol = Solution()\n",
    "sol.addBinary(a,b)"
   ]
  },
  {
   "cell_type": "markdown",
   "metadata": {},
   "source": [
    "## (Easy) 125. Valid Palindrome"
   ]
  },
  {
   "cell_type": "code",
   "execution_count": 41,
   "metadata": {},
   "outputs": [],
   "source": [
    "class Solution:\n",
    "    def isPalindrome(self, s: str) -> bool:\n",
    "        if not s :\n",
    "            return True\n",
    "        new_s = \"\".join(i for i in s if i.isalnum() == True)\n",
    "        new_s = new_s.lower()\n",
    "        end = len(new_s)-1\n",
    "        for i in range(len(new_s)//2):\n",
    "            if new_s[i] == new_s[(end)-i]:\n",
    "                pass\n",
    "            else:\n",
    "                return False\n",
    "        return True"
   ]
  },
  {
   "cell_type": "code",
   "execution_count": 42,
   "metadata": {},
   "outputs": [
    {
     "data": {
      "text/plain": [
       "True"
      ]
     },
     "execution_count": 42,
     "metadata": {},
     "output_type": "execute_result"
    }
   ],
   "source": [
    "Input = \"A man, a plan, a canal: Panama\"\n",
    "# Output: true\n",
    "sol = Solution()\n",
    "sol.isPalindrome(Input)"
   ]
  },
  {
   "cell_type": "code",
   "execution_count": 43,
   "metadata": {},
   "outputs": [
    {
     "data": {
      "text/plain": [
       "False"
      ]
     },
     "execution_count": 43,
     "metadata": {},
     "output_type": "execute_result"
    }
   ],
   "source": [
    "Input = \"race a car\"\n",
    "# Output: false\n",
    "sol = Solution()\n",
    "sol.isPalindrome(Input)"
   ]
  },
  {
   "cell_type": "code",
   "execution_count": 44,
   "metadata": {},
   "outputs": [
    {
     "data": {
      "text/plain": [
       "True"
      ]
     },
     "execution_count": 44,
     "metadata": {},
     "output_type": "execute_result"
    }
   ],
   "source": [
    "Input = \"\"\n",
    "# Output: true\n",
    "sol = Solution()\n",
    "sol.isPalindrome(Input)"
   ]
  },
  {
   "cell_type": "code",
   "execution_count": null,
   "metadata": {},
   "outputs": [],
   "source": []
  },
  {
   "cell_type": "code",
   "execution_count": 45,
   "metadata": {},
   "outputs": [],
   "source": [
    "class Solution:\n",
    "    def reverseString(self, s: [str]) -> None:\n",
    "        \"\"\"\n",
    "        Do not return anything, modify s in-place instead.\n",
    "        \"\"\"\n",
    "        l = 0\n",
    "        r = len(s)-1\n",
    "        while( l < r ):\n",
    "            s[l],s[r] = s[r],s[l]\n",
    "            l += 1\n",
    "            r -= 1\n",
    "        return s"
   ]
  },
  {
   "cell_type": "code",
   "execution_count": 46,
   "metadata": {},
   "outputs": [
    {
     "data": {
      "text/plain": [
       "['o', 'l', 'l', 'e', 'h']"
      ]
     },
     "execution_count": 46,
     "metadata": {},
     "output_type": "execute_result"
    }
   ],
   "source": [
    "Input = [\"h\",\"e\",\"l\",\"l\",\"o\"]\n",
    "# Output: [\"o\",\"l\",\"l\",\"e\",\"h\"]\n",
    "sol = Solution()\n",
    "sol.reverseString(Input)"
   ]
  },
  {
   "cell_type": "code",
   "execution_count": 47,
   "metadata": {},
   "outputs": [
    {
     "data": {
      "text/plain": [
       "['h', 'a', 'n', 'n', 'a', 'H']"
      ]
     },
     "execution_count": 47,
     "metadata": {},
     "output_type": "execute_result"
    }
   ],
   "source": [
    "Input = [\"H\",\"a\",\"n\",\"n\",\"a\",\"h\"]\n",
    "# Output: [\"h\",\"a\",\"n\",\"n\",\"a\",\"H\"]\n",
    "sol = Solution()\n",
    "sol.reverseString(Input)"
   ]
  },
  {
   "cell_type": "markdown",
   "metadata": {},
   "source": [
    "## (Easy) 345. Reverse Vowels of a String"
   ]
  },
  {
   "cell_type": "code",
   "execution_count": 48,
   "metadata": {},
   "outputs": [],
   "source": [
    "class Solution:\n",
    "    def reverseVowels(self, s: str) -> str:\n",
    "        vowel = [\"a\", \"e\", \"i\", \"o\", \"u\", \"A\", \"E\", \"I\", \"O\", \"U\"]\n",
    "        i, j = 0, len(s)-1\n",
    "        s = list(s)\n",
    "        while ( j> i):\n",
    "            if s[i] not in vowel:\n",
    "                i+=1\n",
    "                continue\n",
    "            if s[j] not in vowel:\n",
    "                j-=1\n",
    "                continue\n",
    "            s[i], s[j] = s[j], s[i]\n",
    "            i+=1\n",
    "            j-=1\n",
    "        return(\"\".join(s))\n",
    "\n",
    "# class Solution:\n",
    "#     def reverseVowels(self, s: str) -> str:\n",
    "#         vowel = [\"a\", \"e\", \"i\", \"o\", \"u\", \"A\", \"E\", \"I\", \"O\", \"U\"]\n",
    "#         vowel_pos = []\n",
    "#         for i in range(len(s)) :\n",
    "#             if s[i] in vowel :\n",
    "#                 vowel_pos.append(i)\n",
    "#         s = list(s)\n",
    "#         for i in range(len(vowel_pos)//2):\n",
    "#             s[vowel_pos[i]], s[vowel_pos[-i-1]]  = s[vowel_pos[-i-1]], s[vowel_pos[i]]\n",
    "    \n",
    "#         return(\"\".join(i for i in s)"
   ]
  },
  {
   "cell_type": "code",
   "execution_count": 49,
   "metadata": {},
   "outputs": [
    {
     "data": {
      "text/plain": [
       "'holle'"
      ]
     },
     "execution_count": 49,
     "metadata": {},
     "output_type": "execute_result"
    }
   ],
   "source": [
    "Input = \"hello\"\n",
    "# Output: \"holle\"\n",
    "sol = Solution()\n",
    "sol.reverseVowels(Input)"
   ]
  },
  {
   "cell_type": "code",
   "execution_count": 50,
   "metadata": {},
   "outputs": [
    {
     "data": {
      "text/plain": [
       "'leotcede'"
      ]
     },
     "execution_count": 50,
     "metadata": {},
     "output_type": "execute_result"
    }
   ],
   "source": [
    "Input = \"leetcode\"\n",
    "# Output: \"leotcede\"\n",
    "sol = Solution()\n",
    "sol.reverseVowels(Input)"
   ]
  },
  {
   "cell_type": "code",
   "execution_count": null,
   "metadata": {},
   "outputs": [],
   "source": []
  },
  {
   "cell_type": "code",
   "execution_count": null,
   "metadata": {},
   "outputs": [],
   "source": []
  },
  {
   "cell_type": "code",
   "execution_count": null,
   "metadata": {},
   "outputs": [],
   "source": []
  },
  {
   "cell_type": "code",
   "execution_count": null,
   "metadata": {},
   "outputs": [],
   "source": []
  },
  {
   "cell_type": "code",
   "execution_count": null,
   "metadata": {},
   "outputs": [],
   "source": []
  },
  {
   "cell_type": "code",
   "execution_count": null,
   "metadata": {},
   "outputs": [],
   "source": []
  }
 ],
 "metadata": {
  "kernelspec": {
   "display_name": "Python 3",
   "language": "python",
   "name": "python3"
  },
  "language_info": {
   "codemirror_mode": {
    "name": "ipython",
    "version": 3
   },
   "file_extension": ".py",
   "mimetype": "text/x-python",
   "name": "python",
   "nbconvert_exporter": "python",
   "pygments_lexer": "ipython3",
   "version": "3.6.4"
  }
 },
 "nbformat": 4,
 "nbformat_minor": 4
}
